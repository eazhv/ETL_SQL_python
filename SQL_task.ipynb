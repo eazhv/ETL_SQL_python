{
 "cells": [
  {
   "cell_type": "markdown",
   "id": "59df5d24",
   "metadata": {},
   "source": [
    "## Поиск усердных учеников.\n",
    "\n",
    "Образовательные курсы состоят из различных уроков, каждый из которых состоит из нескольких маленьких заданий. Каждое такое маленькое задание называется \"горошиной\". Назовём очень усердным учеником того пользователя, который хотя бы раз за текущий месяц правильно решил 20 горошин.\n",
    "\n",
    "Необходимо написать оптимальный запрос, который даст информацию о количестве очень усердных студентов.NB! Под усердным студентом мы понимаем студента, который правильно решил 20 задач за текущий месяц."
   ]
  },
  {
   "cell_type": "code",
   "execution_count": 1,
   "id": "77bcc5e8",
   "metadata": {},
   "outputs": [],
   "source": [
    "#подключаемся к clickhouse\n",
    "connection_default = {'host': 'https://clickhouse.lab.karpov.courses',\n",
    "                      'database': 'default',\n",
    "                      'user': 'student', \n",
    "                      'password': 'dpo_python_2020'}"
   ]
  },
  {
   "cell_type": "code",
   "execution_count": 2,
   "id": "c826b595",
   "metadata": {},
   "outputs": [
    {
     "name": "stdout",
     "output_type": "stream",
     "text": [
      "Не работает подключение к ClickHouse\n"
     ]
    }
   ],
   "source": [
    "# создаем запрос, db автоматически заменится на значение из database\n",
    "q = ''' \n",
    "    SELECT \n",
    "        count(st_id) as count_succed_id \n",
    "    FROM\n",
    "        (\n",
    "        SELECT \n",
    "            st_id,\n",
    "            sum(correct) as sum_correct\n",
    "        FROM \n",
    "            default.peas\n",
    "        GROUP BY st_id\n",
    "        HAVING sum_correct >= 20\n",
    "        )\n",
    "    '''\n",
    "try:\n",
    "    # отправляем запрос и записываем результат в пандасовский датафрейм\n",
    "    q_test = ph.read_clickhouse(query=q, connection=connection_default)\n",
    "    print(q_test)\n",
    "except Exception:\n",
    "    print(\"Не работает подключение к ClickHouse\")"
   ]
  },
  {
   "cell_type": "markdown",
   "id": "5309b209",
   "metadata": {},
   "source": [
    "## Оптимизация воронки\n",
    "\n",
    "Образовательная платформа предлагает пройти студентам курсы по модели trial: студент может решить бесплатно лишь 30 горошин в день. Для неограниченного количества заданий в определенной дисциплине студенту необходимо приобрести полный доступ. Команда провела эксперимент, где был протестирован новый экран оплаты.\n",
    "\n",
    "Необходимо в одном запросе выгрузить следующую информацию о группах пользователей:\n",
    "- ARPU, \n",
    "- ARPAU, \n",
    "- CR в покупку, \n",
    "- СR активного пользователя в покупку, \n",
    "- CR пользователя из активности по математике (subject = ’math’) в покупку курса по математике, \n",
    "\n",
    "ARPU считается относительно всех пользователей, попавших в группы.\n",
    "\n",
    "Активным считается пользователь, за все время решивший больше 10 задач правильно в любых дисциплинах.\n",
    "\n",
    "Активным по математике считается пользователь, за все время решивший 2 или больше задач правильно по математике."
   ]
  },
  {
   "cell_type": "code",
   "execution_count": 3,
   "id": "5179f303",
   "metadata": {},
   "outputs": [
    {
     "name": "stdout",
     "output_type": "stream",
     "text": [
      "Connection Error\n"
     ]
    }
   ],
   "source": [
    "metrics = ''' \n",
    "    SELECT\n",
    "    groups,\n",
    "    round(sum(revenue)/uniq(st_id), 2) as ARPU,\n",
    "    round(sum(revenue)/sum(active_users), 2) as ARPAU,\n",
    "    round(sum(clients)/uniq(st_id)*100, 2) as CR,\n",
    "    round(sum(active_users)/uniq(st_id)*100, 2) as CR_active,\n",
    "    round(sum(math_clients)/sum(active_in_math)*100, 2) as CR_math\n",
    "    \n",
    "FROM(\n",
    "    SELECT c.st_id AS st_id, b.revenue AS revenue, a.active AS active_users, \n",
    "    a.active_math AS active_in_math, b.clients AS clients, \n",
    "    b.math_clients AS math_clients, c.test_grp AS groups \n",
    "    \n",
    "    FROM\n",
    "        (SELECT a.st_id, a.active, b.active_math\n",
    "        FROM\n",
    "            (SELECT st_id,\n",
    "            CASE WHEN sum_correct > 10 THEN 1 ELSE 0 END AS active \n",
    "            FROM\n",
    "                (\n",
    "                SELECT st_id, sum(correct) as sum_correct\n",
    "                FROM default.peas\n",
    "                GROUP BY st_id\n",
    "                )\n",
    "            ) as a\n",
    "        LEFT JOIN  \n",
    "            (SELECT st_id,\n",
    "                CASE WHEN sum_correct >=2 THEN 1 ELSE 0 END AS active_math \n",
    "            FROM\n",
    "                (\n",
    "                SELECT st_id, sum(correct) as sum_correct\n",
    "                FROM default.peas\n",
    "                WHERE subject = 'Math'\n",
    "                GROUP BY st_id\n",
    "                )\n",
    "            ) as b\n",
    "            ON a.st_id = b.st_id\n",
    "        ) as a\n",
    "    \n",
    "    LEFT JOIN\n",
    "        (SELECT l.st_id, l.revenue, l.clients, r.math_clients\n",
    "        FROM\n",
    "            (\n",
    "            SELECT st_id, sum(money) as revenue, 1 as clients \n",
    "            FROM final_project_check\n",
    "            GROUP BY st_id \n",
    "            ) as l\n",
    "        LEFT JOIN\n",
    "            (\n",
    "            SELECT st_id, 1 as math_clients\n",
    "            FROM final_project_check\n",
    "            WHERE subject = 'Math'\n",
    "            GROUP BY st_id \n",
    "            ) as r\n",
    "        on l.st_id = r.st_id\n",
    "        )as b\n",
    "        ON a.st_id=b.st_id\n",
    "    \n",
    "    RIGHT JOIN studs as c\n",
    "    ON a.st_id=c.st_id\n",
    "    )\n",
    "GROUP BY groups \n",
    "    '''\n",
    "# отправляем запрос и записываем результат в пандасовский датафрейм\n",
    "try:\n",
    "    metrics_test = ph.read_clickhouse(query=metrics, connection=connection_default)\n",
    "    print(metrics_test)\n",
    "except Exception:\n",
    "    print(\"Connection Error\")"
   ]
  },
  {
   "cell_type": "code",
   "execution_count": null,
   "id": "fb39275a",
   "metadata": {},
   "outputs": [],
   "source": []
  }
 ],
 "metadata": {
  "kernelspec": {
   "display_name": "Python 3 (ipykernel)",
   "language": "python",
   "name": "python3"
  },
  "language_info": {
   "codemirror_mode": {
    "name": "ipython",
    "version": 3
   },
   "file_extension": ".py",
   "mimetype": "text/x-python",
   "name": "python",
   "nbconvert_exporter": "python",
   "pygments_lexer": "ipython3",
   "version": "3.9.13"
  }
 },
 "nbformat": 4,
 "nbformat_minor": 5
}
